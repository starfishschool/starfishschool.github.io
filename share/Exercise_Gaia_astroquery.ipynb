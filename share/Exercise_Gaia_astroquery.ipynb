{
 "cells": [
  {
   "cell_type": "code",
   "execution_count": null,
   "metadata": {},
   "outputs": [],
   "source": [
    "# import library\n",
    "from astroquery.gaia import Gaia\n",
    "import matplotlib.pyplot as plt\n",
    "import numpy as np"
   ]
  },
  {
   "cell_type": "markdown",
   "metadata": {},
   "source": [
    "Let's write a query to get the first 100000 objects from Gaia DR3 source table \n",
    "\n",
    "see details of the Gaia DR3 source at: https://gea.esac.esa.int/archive/documentation/GEDR3/Gaia_archive/chap_datamodel/sec_dm_main_tables/ssec_dm_gaia_source.html\n",
    "\n",
    "Objects should meet the following requirements\n",
    "\n",
    "- parallax_over_error > 10 \n",
    "- phot_g_mean_mag < 17 \n",
    "- RA between 30 and 40\n",
    "- Dec between -50 and -40"
   ]
  },
  {
   "cell_type": "code",
   "execution_count": null,
   "metadata": {},
   "outputs": [],
   "source": [
    "# Now construct the query\n",
    "query_text = '''INSERT THE QUERY HERE\n",
    "'''\n"
   ]
  },
  {
   "cell_type": "code",
   "execution_count": null,
   "metadata": {},
   "outputs": [],
   "source": [
    "# run the query through astroquery to get a table\n",
    "job = Gaia.launch_job(query_text)\n",
    "gaia_data = job.get_results()\n"
   ]
  },
  {
   "cell_type": "code",
   "execution_count": null,
   "metadata": {},
   "outputs": [],
   "source": [
    "# Let's take a look at the table.\n",
    "gaia_data"
   ]
  },
  {
   "cell_type": "code",
   "execution_count": null,
   "metadata": {},
   "outputs": [],
   "source": [
    "# now let's get the distance module to the stars from parallax\n",
    "distance = 1./gaia_data['parallax']  # get distance in kpc from parallax in mas/yr\n",
    "distance_module = 5*np.log10(distance*1000)-5 # get distance module from distance in kpc\n",
    "\n",
    "# now let's make a HR diagram for these stars.\n",
    "plt.figure(figsize=[5,5])\n",
    "plt.plot(gaia_data['phot_bp_mean_mag']-gaia_data['phot_rp_mean_mag'], gaia_data['phot_g_mean_mag']-distance_module,'.k', alpha=0.3)\n",
    "plt.xlim(0,3)\n",
    "plt.ylim(12,-4)\n",
    "plt.xlabel('$BP-RP$')\n",
    "plt.ylabel('$M_G$')"
   ]
  },
  {
   "cell_type": "code",
   "execution_count": null,
   "metadata": {},
   "outputs": [],
   "source": []
  }
 ],
 "metadata": {
  "kernelspec": {
   "display_name": "myenv",
   "language": "python",
   "name": "myenv"
  },
  "language_info": {
   "codemirror_mode": {
    "name": "ipython",
    "version": 3
   },
   "file_extension": ".py",
   "mimetype": "text/x-python",
   "name": "python",
   "nbconvert_exporter": "python",
   "pygments_lexer": "ipython3",
   "version": "3.8.13"
  }
 },
 "nbformat": 4,
 "nbformat_minor": 4
}
