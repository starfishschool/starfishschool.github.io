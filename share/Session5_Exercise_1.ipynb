{
 "cells": [
  {
   "cell_type": "code",
   "execution_count": null,
   "metadata": {},
   "outputs": [],
   "source": [
    "import numpy as np\n",
    "import scipy.stats as stats\n",
    "%matplotlib inline\n",
    "import matplotlib.pyplot as plt"
   ]
  },
  {
   "cell_type": "code",
   "execution_count": null,
   "metadata": {},
   "outputs": [],
   "source": [
    "total = 100000"
   ]
  },
  {
   "cell_type": "code",
   "execution_count": null,
   "metadata": {},
   "outputs": [],
   "source": [
    "# Generate a random variable follow a uniform distribution between 0 and 50\n",
    "\n",
    "x = ...\n",
    "plt.figure(figsize=(10 ,8))\n",
    "plt.hist(x, bins=40, label='uniform vars', density=1, alpha=0.5)\n",
    "plt.xlabel(r'$x$')\n",
    "plt.ylabel(r'$PDF$')"
   ]
  },
  {
   "cell_type": "code",
   "execution_count": null,
   "metadata": {},
   "outputs": [],
   "source": [
    "# Generate a random variable follow a normal distribution with mean = 100 and standard deviation of 50\n",
    "\n",
    "x = \n",
    "plt.figure(figsize=(10, 8))\n",
    "plt.hist(x, bins=40, label='uniform vars', density=1, alpha=0.5)\n",
    "plt.xlabel(r'$x$')\n",
    "plt.ylabel(r'$PDF$')"
   ]
  },
  {
   "cell_type": "markdown",
   "metadata": {},
   "source": [
    "We are going to start with the rejection-acceptance method first, and compare it to the case where we plug the random variables into the inverse of the CDF. "
   ]
  },
  {
   "cell_type": "markdown",
   "metadata": {},
   "source": [
    "Let's define the probability distribution as a function. We have that $P(x) = (1/(e-1))e^x$ if x is within $0<x<1$."
   ]
  },
  {
   "cell_type": "code",
   "execution_count": null,
   "metadata": {},
   "outputs": [],
   "source": [
    "def prob(x):\n",
    "# insert the PDF here\n",
    "\n",
    "    return p"
   ]
  },
  {
   "cell_type": "markdown",
   "metadata": {},
   "source": [
    "Now we accept/reject and redraw uniform random numbers until we have enough samples. It's important to have our 'decision rule' normalized by the maximum of the $P(x)$ distribution so that we don't miss the tail of the distribution."
   ]
  },
  {
   "cell_type": "code",
   "execution_count": null,
   "metadata": {},
   "outputs": [],
   "source": [
    "# initiate the transformed uniform random variable\n",
    "save = np.zeros(total)\n",
    "num = 0\n",
    "# let's write a loop to generate 100000 numbers following the PDF we want to get using accept/reject\n",
    "while num < total:\n",
    "    xx, yy = np.random.rand(2)  # generate two uniform random variable\n",
    "    yy *= ...  # scaling\n",
    "    if ...  # fill this if function here\n",
    "        save[num] = xx\n",
    "        num += 1"
   ]
  },
  {
   "cell_type": "markdown",
   "metadata": {},
   "source": [
    "Now plot the results! We are showing histograms of the random variables, the samples accepted by our algorithm and then the $P(x)$ function itself."
   ]
  },
  {
   "cell_type": "code",
   "execution_count": null,
   "metadata": {},
   "outputs": [],
   "source": [
    "x = np.random.rand(total)\n",
    "plt.figure(figsize=(10, 8))\n",
    "plt.hist(x, bins=40, label='uniform vars', density=1, alpha=0.5)\n",
    "plt.hist(save, bins=40, label='transformed uniform vars', density=True, alpha=0.5)\n",
    "xplot = np.linspace(0, 1, total)\n",
    "plt.plot(xplot, prob(xplot), label='prob distribution')\n",
    "leg = plt.legend(loc='best')\n",
    "plt.xlabel(r'$x$')\n",
    "plt.ylabel(r'$PDF$')"
   ]
  },
  {
   "cell_type": "markdown",
   "metadata": {},
   "source": [
    "For the next step we need to define $F(x)$, the CDF and it's inverse $F^{-1}(x)$. In this case we chose an example that you can integrate and then invert easily."
   ]
  },
  {
   "cell_type": "code",
   "execution_count": null,
   "metadata": {},
   "outputs": [],
   "source": [
    "def cdf_prob(x):\n",
    "# insert the inverse CDF here\n",
    "\n",
    "    return p"
   ]
  },
  {
   "cell_type": "markdown",
   "metadata": {},
   "source": [
    "Note in the step below can now proceed easily, and is much faster than the accept-reject approach."
   ]
  },
  {
   "cell_type": "code",
   "execution_count": null,
   "metadata": {},
   "outputs": [],
   "source": [
    "x = np.random.rand(total)\n",
    "plt.figure(figsize=(10, 8))\n",
    "plt.hist(x, bins=40, label='uniform vars', density=True, alpha=0.5)\n",
    "plt.hist(cdf_inverse_prob(x), bins=40, label='transformed uniform vars', density=True, alpha=0.5)\n",
    "xplot = np.linspace(0, 1, total)\n",
    "plt.plot(xplot, prob(xplot), label='prob distribution')\n",
    "leg = plt.legend(loc='best')\n",
    "plt.xlabel(r'$x$')\n",
    "plt.ylabel(r'$PDF$')"
   ]
  },
  {
   "cell_type": "code",
   "execution_count": null,
   "metadata": {},
   "outputs": [],
   "source": []
  }
 ],
 "metadata": {
  "kernelspec": {
   "display_name": "Python 3",
   "language": "python",
   "name": "python3"
  },
  "language_info": {
   "codemirror_mode": {
    "name": "ipython",
    "version": 3
   },
   "file_extension": ".py",
   "mimetype": "text/x-python",
   "name": "python",
   "nbconvert_exporter": "python",
   "pygments_lexer": "ipython3",
   "version": "3.7.4"
  }
 },
 "nbformat": 4,
 "nbformat_minor": 4
}
