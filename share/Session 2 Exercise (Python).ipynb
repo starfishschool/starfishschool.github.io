{
 "cells": [
  {
   "cell_type": "markdown",
   "metadata": {},
   "source": [
    "# Week 2 Exercise (Python)\n",
    "\n",
    "In this exercise, you will do the following:\n",
    "\n",
    "* Read in the data from the data file A provided\n",
    "* Change the precision of the data file (reduce the floating point precision to 2 decimal places, or make them integers)\n",
    "* Apply a 20% Gaussian scatter to the data points \n",
    "* Make a plot of your data and save it to file B\n",
    "* Save the data to a text file\n",
    "\n",
    "You're welcome to use this notebook to code your solutions, or you can create your own!"
   ]
  },
  {
   "cell_type": "markdown",
   "metadata": {},
   "source": [
    "## Importing the right modules\n",
    "\n",
    "In this cell, import all the modules you need for this exercise:"
   ]
  },
  {
   "cell_type": "code",
   "execution_count": null,
   "metadata": {},
   "outputs": [],
   "source": []
  },
  {
   "cell_type": "markdown",
   "metadata": {},
   "source": [
    "## Reading In files\n",
    "\n",
    "In this cell, write the code to read in the provided data file. As always, take a look at what data has been imported to make sure Python has it correct!"
   ]
  },
  {
   "cell_type": "code",
   "execution_count": null,
   "metadata": {},
   "outputs": [],
   "source": []
  },
  {
   "cell_type": "markdown",
   "metadata": {},
   "source": [
    "## Changing Precision/Data Type\n",
    "\n",
    "In this cell, change the precision of the data to two decimal places. Separately, change the data type to an integer. What happens to the numbers when you change the data type to an integer without explicitly rounding them?"
   ]
  },
  {
   "cell_type": "code",
   "execution_count": null,
   "metadata": {},
   "outputs": [],
   "source": []
  },
  {
   "cell_type": "markdown",
   "metadata": {},
   "source": [
    "## Writing a Gaussian Function\n",
    "\n",
    "In this cell, write the a gaussian function that takes the standard deviation as a parameter and a mean of zero. As a reminder, the formula for such a Gaussian is:\n",
    "\n",
    "$g(x) = \\frac{1}{\\sigma \\sqrt{2 \\pi}} \\exp{\\Big(-\\frac{1}{2}} \\frac{x^2}{\\sigma^2} \\Big) $"
   ]
  },
  {
   "cell_type": "code",
   "execution_count": null,
   "metadata": {},
   "outputs": [],
   "source": []
  },
  {
   "cell_type": "markdown",
   "metadata": {},
   "source": [
    "## Adding a Gaussian Scatter\n",
    "\n",
    "Using a random variable function from NumPy, add a 20% Gaussian Scatter to your points from the data file"
   ]
  },
  {
   "cell_type": "code",
   "execution_count": null,
   "metadata": {},
   "outputs": [],
   "source": []
  },
  {
   "cell_type": "markdown",
   "metadata": {},
   "source": [
    "## Plotting\n",
    "\n",
    "Make a basic plot of your data and save it to a PDF and PNG"
   ]
  },
  {
   "cell_type": "code",
   "execution_count": null,
   "metadata": {},
   "outputs": [],
   "source": []
  },
  {
   "cell_type": "markdown",
   "metadata": {},
   "source": [
    "## File Output\n",
    "\n",
    "Save your newly noised data to a text file named \"noisy_data.csv\" as a *comma-separated values* text file"
   ]
  },
  {
   "cell_type": "code",
   "execution_count": null,
   "metadata": {},
   "outputs": [],
   "source": []
  },
  {
   "cell_type": "markdown",
   "metadata": {},
   "source": [
    "# Stretch Goals\n",
    "\n",
    "a) Re-write your gaussian function from above and get it to accept a parameter for the mean and the amplitude of the function. Both the mean and the amplitude should be **optional parameters** that default to 0, and 1 respectively. "
   ]
  },
  {
   "cell_type": "code",
   "execution_count": null,
   "metadata": {},
   "outputs": [],
   "source": []
  },
  {
   "cell_type": "markdown",
   "metadata": {},
   "source": [
    "b) Print out the values from the new, noisy data array with precisely 3 decimal places of precision, with the first and second columns separated by a \"tab\" character."
   ]
  },
  {
   "cell_type": "code",
   "execution_count": null,
   "metadata": {},
   "outputs": [],
   "source": []
  }
 ],
 "metadata": {
  "kernelspec": {
   "display_name": "Python 3",
   "language": "python",
   "name": "python3"
  },
  "language_info": {
   "codemirror_mode": {
    "name": "ipython",
    "version": 3
   },
   "file_extension": ".py",
   "mimetype": "text/x-python",
   "name": "python",
   "nbconvert_exporter": "python",
   "pygments_lexer": "ipython3",
   "version": "3.7.6"
  }
 },
 "nbformat": 4,
 "nbformat_minor": 4
}
